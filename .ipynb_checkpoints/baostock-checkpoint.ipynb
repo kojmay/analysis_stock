{
 "cells": [
  {
   "cell_type": "code",
   "execution_count": 11,
   "metadata": {},
   "outputs": [
    {
     "name": "stdout",
     "output_type": "stream",
     "text": [
      "login success!\n",
      "login respond error_code:0\n",
      "login respond  error_msg:success\n",
      "query_history_k_data_plus respond error_code:0\n",
      "query_history_k_data_plus respond  error_msg:success\n"
     ]
    }
   ],
   "source": [
    "import baostock as bs\n",
    "import pandas as pd\n",
    "\n",
    "#### 登陆系统 ####\n",
    "lg = bs.login()\n",
    "# 显示登陆返回信息\n",
    "print('login respond error_code:'+lg.error_code)\n",
    "print('login respond  error_msg:'+lg.error_msg)\n",
    "\n",
    "#### 获取沪深A股历史K线数据 ####\n",
    "# 详细指标参数，参见“历史行情指标参数”章节；“分钟线”参数与“日线”参数不同。“分钟线”不包含指数。\n",
    "# 分钟线指标：date,time,code,open,high,low,close,volume,amount,adjustflag\n",
    "# 周月线指标：date,code,open,high,low,close,volume,amount,adjustflag,turn,pctChg\n",
    "rs = bs.query_history_k_data_plus(\"sh.600519\",\n",
    "    \"date,code,open,high,low,close,adjustflag,turn,tradestatus,pctChg,peTTM\",\n",
    "    start_date='2017-07-01',\n",
    "    frequency=\"d\", adjustflag=\"3\")\n",
    "print('query_history_k_data_plus respond error_code:'+rs.error_code)\n",
    "print('query_history_k_data_plus respond  error_msg:'+rs.error_msg)\n",
    "\n",
    "#### 打印结果集 ####\n",
    "data_list = []\n",
    "while (rs.error_code == '0') & rs.next():\n",
    "    # 获取一条记录，将记录合并在一起\n",
    "    data_list.append(rs.get_row_data())\n",
    "result = pd.DataFrame(data_list, columns=rs.fields)"
   ]
  },
  {
   "cell_type": "code",
   "execution_count": 12,
   "metadata": {},
   "outputs": [
    {
     "data": {
      "text/html": [
       "<div>\n",
       "<style scoped>\n",
       "    .dataframe tbody tr th:only-of-type {\n",
       "        vertical-align: middle;\n",
       "    }\n",
       "\n",
       "    .dataframe tbody tr th {\n",
       "        vertical-align: top;\n",
       "    }\n",
       "\n",
       "    .dataframe thead th {\n",
       "        text-align: right;\n",
       "    }\n",
       "</style>\n",
       "<table border=\"1\" class=\"dataframe\">\n",
       "  <thead>\n",
       "    <tr style=\"text-align: right;\">\n",
       "      <th></th>\n",
       "      <th>date</th>\n",
       "      <th>code</th>\n",
       "      <th>open</th>\n",
       "      <th>high</th>\n",
       "      <th>low</th>\n",
       "      <th>close</th>\n",
       "      <th>adjustflag</th>\n",
       "      <th>turn</th>\n",
       "      <th>tradestatus</th>\n",
       "      <th>pctChg</th>\n",
       "      <th>peTTM</th>\n",
       "    </tr>\n",
       "  </thead>\n",
       "  <tbody>\n",
       "    <tr>\n",
       "      <th>0</th>\n",
       "      <td>2017-07-03</td>\n",
       "      <td>sh.600519</td>\n",
       "      <td>474.2000</td>\n",
       "      <td>474.2000</td>\n",
       "      <td>457.9000</td>\n",
       "      <td>460.3700</td>\n",
       "      <td>3</td>\n",
       "      <td>0.395069</td>\n",
       "      <td>1</td>\n",
       "      <td>-2.432979</td>\n",
       "      <td>32.214182</td>\n",
       "    </tr>\n",
       "    <tr>\n",
       "      <th>1</th>\n",
       "      <td>2017-07-04</td>\n",
       "      <td>sh.600519</td>\n",
       "      <td>458.9600</td>\n",
       "      <td>460.0000</td>\n",
       "      <td>449.0000</td>\n",
       "      <td>451.9200</td>\n",
       "      <td>3</td>\n",
       "      <td>0.449682</td>\n",
       "      <td>1</td>\n",
       "      <td>-1.835476</td>\n",
       "      <td>31.622897</td>\n",
       "    </tr>\n",
       "    <tr>\n",
       "      <th>2</th>\n",
       "      <td>2017-07-05</td>\n",
       "      <td>sh.600519</td>\n",
       "      <td>453.0100</td>\n",
       "      <td>460.3300</td>\n",
       "      <td>453.0100</td>\n",
       "      <td>460.1300</td>\n",
       "      <td>3</td>\n",
       "      <td>0.298841</td>\n",
       "      <td>1</td>\n",
       "      <td>1.816691</td>\n",
       "      <td>32.197388</td>\n",
       "    </tr>\n",
       "    <tr>\n",
       "      <th>3</th>\n",
       "      <td>2017-07-06</td>\n",
       "      <td>sh.600519</td>\n",
       "      <td>458.1100</td>\n",
       "      <td>460.2000</td>\n",
       "      <td>450.6000</td>\n",
       "      <td>455.9800</td>\n",
       "      <td>3</td>\n",
       "      <td>0.334696</td>\n",
       "      <td>1</td>\n",
       "      <td>-0.901918</td>\n",
       "      <td>31.906994</td>\n",
       "    </tr>\n",
       "    <tr>\n",
       "      <th>4</th>\n",
       "      <td>2017-07-07</td>\n",
       "      <td>sh.600519</td>\n",
       "      <td>451.0500</td>\n",
       "      <td>451.1000</td>\n",
       "      <td>441.2000</td>\n",
       "      <td>445.9700</td>\n",
       "      <td>3</td>\n",
       "      <td>0.300880</td>\n",
       "      <td>1</td>\n",
       "      <td>-0.716846</td>\n",
       "      <td>31.206549</td>\n",
       "    </tr>\n",
       "    <tr>\n",
       "      <th>...</th>\n",
       "      <td>...</td>\n",
       "      <td>...</td>\n",
       "      <td>...</td>\n",
       "      <td>...</td>\n",
       "      <td>...</td>\n",
       "      <td>...</td>\n",
       "      <td>...</td>\n",
       "      <td>...</td>\n",
       "      <td>...</td>\n",
       "      <td>...</td>\n",
       "      <td>...</td>\n",
       "    </tr>\n",
       "    <tr>\n",
       "      <th>1148</th>\n",
       "      <td>2022-03-22</td>\n",
       "      <td>sh.600519</td>\n",
       "      <td>1723.8800</td>\n",
       "      <td>1723.8800</td>\n",
       "      <td>1686.3300</td>\n",
       "      <td>1695.0000</td>\n",
       "      <td>3</td>\n",
       "      <td>0.167600</td>\n",
       "      <td>1</td>\n",
       "      <td>-0.545700</td>\n",
       "      <td>42.469287</td>\n",
       "    </tr>\n",
       "    <tr>\n",
       "      <th>1149</th>\n",
       "      <td>2022-03-23</td>\n",
       "      <td>sh.600519</td>\n",
       "      <td>1705.0000</td>\n",
       "      <td>1770.0000</td>\n",
       "      <td>1697.0000</td>\n",
       "      <td>1752.1900</td>\n",
       "      <td>3</td>\n",
       "      <td>0.462200</td>\n",
       "      <td>1</td>\n",
       "      <td>3.374000</td>\n",
       "      <td>43.902218</td>\n",
       "    </tr>\n",
       "    <tr>\n",
       "      <th>1150</th>\n",
       "      <td>2022-03-24</td>\n",
       "      <td>sh.600519</td>\n",
       "      <td>1738.0000</td>\n",
       "      <td>1740.0000</td>\n",
       "      <td>1717.3500</td>\n",
       "      <td>1720.9300</td>\n",
       "      <td>3</td>\n",
       "      <td>0.205500</td>\n",
       "      <td>1</td>\n",
       "      <td>-1.784100</td>\n",
       "      <td>43.118979</td>\n",
       "    </tr>\n",
       "    <tr>\n",
       "      <th>1151</th>\n",
       "      <td>2022-03-25</td>\n",
       "      <td>sh.600519</td>\n",
       "      <td>1712.0000</td>\n",
       "      <td>1734.0000</td>\n",
       "      <td>1685.0000</td>\n",
       "      <td>1690.0000</td>\n",
       "      <td>3</td>\n",
       "      <td>0.236500</td>\n",
       "      <td>1</td>\n",
       "      <td>-1.797300</td>\n",
       "      <td>42.344009</td>\n",
       "    </tr>\n",
       "    <tr>\n",
       "      <th>1152</th>\n",
       "      <td>2022-03-28</td>\n",
       "      <td>sh.600519</td>\n",
       "      <td>1625.0000</td>\n",
       "      <td>1664.8000</td>\n",
       "      <td>1604.0000</td>\n",
       "      <td>1660.8000</td>\n",
       "      <td>3</td>\n",
       "      <td>0.458100</td>\n",
       "      <td>1</td>\n",
       "      <td>-1.727800</td>\n",
       "      <td>41.612384</td>\n",
       "    </tr>\n",
       "  </tbody>\n",
       "</table>\n",
       "<p>1153 rows × 11 columns</p>\n",
       "</div>"
      ],
      "text/plain": [
       "            date       code       open       high        low      close  \\\n",
       "0     2017-07-03  sh.600519   474.2000   474.2000   457.9000   460.3700   \n",
       "1     2017-07-04  sh.600519   458.9600   460.0000   449.0000   451.9200   \n",
       "2     2017-07-05  sh.600519   453.0100   460.3300   453.0100   460.1300   \n",
       "3     2017-07-06  sh.600519   458.1100   460.2000   450.6000   455.9800   \n",
       "4     2017-07-07  sh.600519   451.0500   451.1000   441.2000   445.9700   \n",
       "...          ...        ...        ...        ...        ...        ...   \n",
       "1148  2022-03-22  sh.600519  1723.8800  1723.8800  1686.3300  1695.0000   \n",
       "1149  2022-03-23  sh.600519  1705.0000  1770.0000  1697.0000  1752.1900   \n",
       "1150  2022-03-24  sh.600519  1738.0000  1740.0000  1717.3500  1720.9300   \n",
       "1151  2022-03-25  sh.600519  1712.0000  1734.0000  1685.0000  1690.0000   \n",
       "1152  2022-03-28  sh.600519  1625.0000  1664.8000  1604.0000  1660.8000   \n",
       "\n",
       "     adjustflag      turn tradestatus     pctChg      peTTM  \n",
       "0             3  0.395069           1  -2.432979  32.214182  \n",
       "1             3  0.449682           1  -1.835476  31.622897  \n",
       "2             3  0.298841           1   1.816691  32.197388  \n",
       "3             3  0.334696           1  -0.901918  31.906994  \n",
       "4             3  0.300880           1  -0.716846  31.206549  \n",
       "...         ...       ...         ...        ...        ...  \n",
       "1148          3  0.167600           1  -0.545700  42.469287  \n",
       "1149          3  0.462200           1   3.374000  43.902218  \n",
       "1150          3  0.205500           1  -1.784100  43.118979  \n",
       "1151          3  0.236500           1  -1.797300  42.344009  \n",
       "1152          3  0.458100           1  -1.727800  41.612384  \n",
       "\n",
       "[1153 rows x 11 columns]"
      ]
     },
     "execution_count": 12,
     "metadata": {},
     "output_type": "execute_result"
    }
   ],
   "source": [
    "result"
   ]
  },
  {
   "cell_type": "code",
   "execution_count": 13,
   "metadata": {},
   "outputs": [],
   "source": [
    "import matplotlib.pyplot as plt\n",
    "import numpy as np"
   ]
  },
  {
   "cell_type": "code",
   "execution_count": 14,
   "metadata": {},
   "outputs": [
    {
     "data": {
      "text/plain": [
       "[<matplotlib.lines.Line2D at 0x166ecd9edc8>]"
      ]
     },
     "execution_count": 14,
     "metadata": {},
     "output_type": "execute_result"
    },
    {
     "data": {
      "image/png": "[encoded data removed]",
      "text/plain": [
       "<Figure size 432x288 with 1 Axes>"
      ]
     },
     "metadata": {
      "needs_background": "light"
     },
     "output_type": "display_data"
    }
   ],
   "source": []
  },
  {
   "cell_type": "code",
   "execution_count": 17,
   "metadata": {},
   "outputs": [
    {
     "data": {
      "image/png": "[encoded data removed]",
      "text/plain": [
       "<Figure size 432x288 with 1 Axes>"
      ]
     },
     "metadata": {
      "needs_background": "light"
     },
     "output_type": "display_data"
    }
   ],
   "source": [
    "plt.xlabel('time')\n",
    "plt.ylabel('pe')\n",
    "plt.show()"
   ]
  },
  {
   "cell_type": "code",
   "execution_count": null,
   "metadata": {},
   "outputs": [],
   "source": [
    "#### 结果集输出到csv文件 ####   \n",
    "result.to_csv(\"./history_A_stock_k_data.csv\", index=False)\n",
    "print(result)\n",
    "\n",
    "#### 登出系统 ####\n",
    "bs.logout()"
   ]
  }
 ],
 "metadata": {
  "kernelspec": {
   "display_name": "Python 3",
   "language": "python",
   "name": "python3"
  },
  "language_info": {
   "codemirror_mode": {
    "name": "ipython",
    "version": 3
   },
   "file_extension": ".py",
   "mimetype": "text/x-python",
   "name": "python",
   "nbconvert_exporter": "python",
   "pygments_lexer": "ipython3",
   "version": "3.7.6"
  }
 },
 "nbformat": 4,
 "nbformat_minor": 4
}
